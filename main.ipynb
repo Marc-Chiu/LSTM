{
 "cells": [
  {
   "cell_type": "markdown",
   "id": "c87f238a",
   "metadata": {},
   "source": [
    "<a href=https://keras.io/examples/vision/conv_lstm/>LSTM</a><br>\n",
    "<a href=https://stanford.edu/%7Eshervine/blog/keras-how-to-generate-data-on-the-fly>Dataset Class</a>"
   ]
  },
  {
   "cell_type": "code",
   "execution_count": 1,
   "id": "57063aa1",
   "metadata": {},
   "outputs": [
    {
     "name": "stderr",
     "output_type": "stream",
     "text": [
      "2023-08-15 16:01:14.268497: I tensorflow/core/platform/cpu_feature_guard.cc:182] This TensorFlow binary is optimized to use available CPU instructions in performance-critical operations.\n",
      "To enable the following instructions: AVX2 FMA, in other operations, rebuild TensorFlow with the appropriate compiler flags.\n"
     ]
    },
    {
     "ename": "ModuleNotFoundError",
     "evalue": "No module named 'data'",
     "output_type": "error",
     "traceback": [
      "\u001b[0;31m---------------------------------------------------------------------------\u001b[0m",
      "\u001b[0;31mModuleNotFoundError\u001b[0m                       Traceback (most recent call last)",
      "Cell \u001b[0;32mIn[1], line 4\u001b[0m\n\u001b[1;32m      2\u001b[0m \u001b[39mfrom\u001b[39;00m \u001b[39msklearn\u001b[39;00m\u001b[39m.\u001b[39;00m\u001b[39mmodel_selection\u001b[39;00m \u001b[39mimport\u001b[39;00m train_test_split\n\u001b[1;32m      3\u001b[0m \u001b[39mimport\u001b[39;00m \u001b[39mnumpy\u001b[39;00m \u001b[39mas\u001b[39;00m \u001b[39mnp\u001b[39;00m\n\u001b[0;32m----> 4\u001b[0m \u001b[39mfrom\u001b[39;00m \u001b[39mdata\u001b[39;00m \u001b[39mimport\u001b[39;00m DataGenerator\n\u001b[1;32m      5\u001b[0m \u001b[39mimport\u001b[39;00m \u001b[39mmatplotlib\u001b[39;00m\u001b[39m.\u001b[39;00m\u001b[39mpyplot\u001b[39;00m \u001b[39mas\u001b[39;00m \u001b[39mplt\u001b[39;00m\n\u001b[1;32m      6\u001b[0m \u001b[39mimport\u001b[39;00m \u001b[39mos\u001b[39;00m\n",
      "\u001b[0;31mModuleNotFoundError\u001b[0m: No module named 'data'"
     ]
    }
   ],
   "source": [
    "import tensorflow as tf\n",
    "from sklearn.model_selection import train_test_split\n",
    "import numpy as np\n",
    "from data import DataGenerator\n",
    "import matplotlib.pyplot as plt\n",
    "import os"
   ]
  },
  {
   "cell_type": "markdown",
   "id": "9d24d558",
   "metadata": {},
   "source": [
    "## Test Stardist"
   ]
  },
  {
   "cell_type": "code",
   "execution_count": null,
   "id": "4a8d26f4",
   "metadata": {},
   "outputs": [],
   "source": [
    "from stardist.models import StarDist2D\n",
    "from lamprogen.recipes.dl import stardist_2d_slicewise\n",
    "import tifffile as tiff\n",
    "\n",
    "modeldir = f'models'\n",
    "name = 'lamprogen-stardist-trained'\n",
    "model = StarDist2D(None, name=name,basedir=modeldir)\n",
    "\n",
    "# im = tiff.imread('data/images/230413 GLA HEX grad post v2 last well_Plate_1082_well_D12_channel2_1.tif')\n",
    "# labeled_3d = stardist_2d_slicewise(im, model)"
   ]
  },
  {
   "cell_type": "code",
   "execution_count": null,
   "id": "bc6783ee",
   "metadata": {},
   "outputs": [],
   "source": [
    "import napari\n",
    "\n",
    "im = tiff.imread('data/inputs/230413 GLA HEX grad post v2 last well_Plate_1082_well_D12_channel2_1.tif')\n",
    "mask = tiff.imread('data/masks/230413 GLA HEX grad post v2 last well_Plate_1082_well_D12_channel2_1.tif')\n",
    "viewer=napari.Viewer()\n",
    "\n",
    "viewer.add_image(im, name='intensity')\n",
    "viewer.add_labels(mask, name='labels')"
   ]
  },
  {
   "cell_type": "markdown",
   "id": "9494a0af",
   "metadata": {},
   "source": [
    "## Define Dataset"
   ]
  },
  {
   "cell_type": "code",
   "execution_count": null,
   "id": "a231ceba",
   "metadata": {},
   "outputs": [],
   "source": [
    "import tifffile as tiff\n",
    "image = tiff.imread(\"data/masks/230413 GLA HEX grad post v2 last well_Plate_1082_well_D12_channel2_1.tif\")\n",
    "image.shape"
   ]
  },
  {
   "cell_type": "code",
   "execution_count": null,
   "id": "1cc36d76",
   "metadata": {},
   "outputs": [],
   "source": [
    "def get_ids(path='data'):\n",
    "    images = []\n",
    "    masks = []\n",
    "    for file in os.listdir(path+'/inputs'):\n",
    "        images.append(file)\n",
    "\n",
    "    for file in os.listdir(path+'/masks'):\n",
    "        masks.append(file)\n",
    "\n",
    "    return images, masks\n",
    "\n",
    "images, masks = get_ids()\n",
    "images.sort()\n",
    "masks.sort()\n",
    "images = images[:5]\n",
    "masks = images[:5]\n",
    "\n",
    "X_train, X_test, y_train, y_test = train_test_split(images, masks, test_size=0.1)"
   ]
  },
  {
   "cell_type": "code",
   "execution_count": null,
   "id": "2c9bd1b6",
   "metadata": {},
   "outputs": [],
   "source": [
    "print(X_train[3])\n",
    "print(y_train[3])\n",
    "print(X_test[0])\n",
    "print(y_test[0])"
   ]
  },
  {
   "cell_type": "code",
   "execution_count": null,
   "id": "d0f496a7",
   "metadata": {},
   "outputs": [],
   "source": [
    "batch_size = 2\n",
    "\n",
    "params = {'dim': (70,256,256),\n",
    "          'batch_size': batch_size,\n",
    "          'n_channels': 1,\n",
    "          'shuffle': True}\n",
    "\n",
    "\n",
    "training_generator = DataGenerator(X_train, y_train, **params)\n",
    "validation_generator = DataGenerator(X_test, y_test, **params)"
   ]
  },
  {
   "cell_type": "code",
   "execution_count": null,
   "id": "b91f1462",
   "metadata": {},
   "outputs": [],
   "source": [
    "print(training_generator[0][0].shape)\n",
    "type(training_generator)"
   ]
  },
  {
   "cell_type": "code",
   "execution_count": null,
   "id": "db29acb9",
   "metadata": {},
   "outputs": [],
   "source": [
    "# # Construct a figure on which we will visualize the images.\n",
    "# fig, axes = plt.subplots(7, 10, figsize=(20, 16))\n",
    "\n",
    "# # Plot each of the sequential images for one random data example.\n",
    "# image = training_generator[0][0][0]\n",
    "# for idx, ax in enumerate(axes.flat):\n",
    "#     ax.imshow(np.squeeze(image[idx].astype('uint8')), cmap=\"magma\")\n",
    "#     ax.set_title(f\"{idx + 1}\")\n",
    "#     ax.axis(\"off\")\n",
    "\n",
    "# # Print information and display the figure.\n",
    "# print(f\"Displaying frames for example {0}.\")\n",
    "# plt.show()"
   ]
  },
  {
   "cell_type": "markdown",
   "id": "26ab02f7",
   "metadata": {},
   "source": [
    "## Define Model"
   ]
  },
  {
   "cell_type": "code",
   "execution_count": null,
   "id": "36c2a048",
   "metadata": {},
   "outputs": [],
   "source": [
    "#Load Packages\n",
    "import keras\n",
    "from tensorflow.keras import layers\n",
    "from tensorflow.keras.models import Sequential\n",
    "from tensorflow.keras.layers import Conv3D, ConvLSTM2D, BatchNormalization\n",
    "\n",
    "model = Sequential()\n",
    "\n",
    "model.add(ConvLSTM2D(filters=3, kernel_size=(3, 3),\n",
    "                   input_shape=(70, 256, 256, 1),\n",
    "                   padding='same', return_sequences=True, activation='relu', kernel_initializer='glorot_uniform'))\n",
    "model.add(BatchNormalization())\n",
    "\n",
    "model.add(ConvLSTM2D(filters=40, kernel_size=(3, 3),\n",
    "                   padding='same', return_sequences=True, activation='relu', kernel_initializer='glorot_uniform'))\n",
    "model.add(BatchNormalization())\n",
    "\n",
    "model.add(ConvLSTM2D(filters=40, kernel_size=(3, 3),\n",
    "                   padding='same', return_sequences=True, activation='relu', kernel_initializer='glorot_uniform'))\n",
    "model.add(BatchNormalization())\n",
    "\n",
    "model.add(ConvLSTM2D(filters=40, kernel_size=(3, 3),\n",
    "                   padding='same', return_sequences=True, activation='relu', kernel_initializer='glorot_uniform'))\n",
    "model.add(BatchNormalization())\n",
    "\n",
    "model.add(Conv3D(filters=1, kernel_size=(3, 3, 3),\n",
    "               activation='sigmoid',\n",
    "               padding='same', data_format='channels_last', kernel_initializer='HeUniform'))\n",
    "\n",
    "optimizer = keras.optimizers.Adam(lr=0.001)\n",
    "model.compile(loss='binary_crossentropy', optimizer=optimizer)\n",
    "model.summary()"
   ]
  },
  {
   "cell_type": "markdown",
   "id": "3fefdc13",
   "metadata": {},
   "source": [
    "## Define Traing Loop"
   ]
  },
  {
   "cell_type": "code",
   "execution_count": null,
   "id": "b476c221",
   "metadata": {},
   "outputs": [],
   "source": [
    "# Define some callbacks to improve training.\n",
    "early_stopping = keras.callbacks.EarlyStopping(monitor=\"val_loss\", patience=10)\n",
    "reduce_lr = keras.callbacks.ReduceLROnPlateau(monitor=\"val_loss\", patience=5)\n",
    "\n",
    "# Define modifiable training hyperparameters.\n",
    "epochs = 2\n",
    "\n",
    "checkpoint_path = \"LSTM Training\"\n",
    "# Create a callback that saves the model's weights\n",
    "cp_callback = tf.keras.callbacks.ModelCheckpoint(filepath=checkpoint_path,\n",
    "                                                 save_weights_only=True,\n",
    "                                                 verbose=1)\n",
    "\n",
    "# Fit the model to the training data.\n",
    "model.fit(\n",
    "    training_generator,\n",
    "    batch_size = batch_size,\n",
    "    epochs=epochs,\n",
    "    validation_data=validation_generator,\n",
    "    callbacks=[early_stopping, reduce_lr, cp_callback],\n",
    ")"
   ]
  },
  {
   "cell_type": "code",
   "execution_count": null,
   "id": "0a21049f",
   "metadata": {},
   "outputs": [],
   "source": [
    "batch = []\n",
    "\n",
    "im1 = tiff.imread('data/inputs/230413 GLA HEX grad post v2 last well_Plate_1082_well_D12_channel2_1.tif')\n",
    "im1 = np.expand_dims(im1, axis=-1)\n",
    "batch.append(im1)\n",
    "\n",
    "im2 = tiff.imread('data/inputs/230413 GLA HEX grad post v2_Plate_1081_well_D05_channel2_0.tif')\n",
    "im2 = np.expand_dims(im2, axis=-1)\n",
    "batch.append(im2)\n",
    "batch = np.asarray(batch)\n",
    "print(batch.shape)\n",
    "\n",
    "output = model.predict(batch)"
   ]
  },
  {
   "cell_type": "code",
   "execution_count": null,
   "id": "a3171217",
   "metadata": {},
   "outputs": [],
   "source": [
    "output"
   ]
  },
  {
   "cell_type": "code",
   "execution_count": null,
   "id": "142fa371",
   "metadata": {},
   "outputs": [],
   "source": [
    "X = np.empty((70,256,256,1))\n",
    "X[:,:,:,:1]= im\n",
    "\n",
    "test = X[None, :]\n",
    "test.shape"
   ]
  },
  {
   "cell_type": "code",
   "execution_count": null,
   "id": "8aa090ed",
   "metadata": {},
   "outputs": [],
   "source": [
    "output = model.predict(test)"
   ]
  },
  {
   "cell_type": "code",
   "execution_count": null,
   "id": "79ba7cd2",
   "metadata": {},
   "outputs": [],
   "source": [
    "output.shape\n",
    "\n",
    "prediction = np.squeeze(output)\n",
    "prediction.shape"
   ]
  },
  {
   "cell_type": "code",
   "execution_count": null,
   "id": "94724ade",
   "metadata": {},
   "outputs": [],
   "source": [
    "viewer=napari.Viewer()\n",
    "\n",
    "im = tiff.imread('data/inputs/230413 GLA HEX grad post v2 last well_Plate_1082_well_D12_channel2_1.tif')\n",
    "viewer.add_image(im, name='intensity')\n",
    "viewer.add_labels(prediction.astype(\"uint8\"), name='prediction')"
   ]
  },
  {
   "cell_type": "code",
   "execution_count": null,
   "id": "5904100a",
   "metadata": {},
   "outputs": [],
   "source": [
    "output"
   ]
  },
  {
   "cell_type": "code",
   "execution_count": null,
   "id": "ecac3565",
   "metadata": {},
   "outputs": [],
   "source": []
  }
 ],
 "metadata": {
  "kernelspec": {
   "display_name": "Python 3 (ipykernel)",
   "language": "python",
   "name": "python3"
  },
  "language_info": {
   "codemirror_mode": {
    "name": "ipython",
    "version": 3
   },
   "file_extension": ".py",
   "mimetype": "text/x-python",
   "name": "python",
   "nbconvert_exporter": "python",
   "pygments_lexer": "ipython3",
   "version": "3.10.12"
  }
 },
 "nbformat": 4,
 "nbformat_minor": 5
}
