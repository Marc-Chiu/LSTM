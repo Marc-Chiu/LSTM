{
 "cells": [
  {
   "cell_type": "code",
   "execution_count": 2,
   "id": "57063aa1",
   "metadata": {},
   "outputs": [
    {
     "name": "stderr",
     "output_type": "stream",
     "text": [
      "2023-07-24 17:39:21.808247: I tensorflow/core/platform/cpu_feature_guard.cc:193] This TensorFlow binary is optimized with oneAPI Deep Neural Network Library (oneDNN) to use the following CPU instructions in performance-critical operations:  SSE4.1 SSE4.2 AVX AVX2 AVX512F AVX512_VNNI FMA\n",
      "To enable them in other operations, rebuild TensorFlow with the appropriate compiler flags.\n"
     ]
    }
   ],
   "source": [
    "import torch\n",
    "import torch.nn as nn\n",
    "import torch.nn.functional as F\n",
    "import matplotlib.pyplot as plt\n",
    "import torch\n",
    "import torch.optim as optim\n",
    "from losses import DICELossMultiClass\n",
    "\n",
    "from torch.autograd import Variable\n",
    "from torch.utils.data import DataLoader\n",
    "\n",
    "from torch.utils.data.dataset import Dataset\n",
    "import numpy as np\n",
    "import matplotlib.pyplot as plt\n",
    "import tifffile as tiff\n",
    "import os\n",
    "import sys\n",
    "\n",
    "\n",
    "#from data import DatasetLSTM\n",
    "from CLSTM import CLSTM\n",
    "from data import DatasetLSTM\n",
    "\n",
    "\n",
    "from stardist.models import StarDist2D\n",
    "from lamprogen.recipes.dl import stardist_2d_slicewise"
   ]
  },
  {
   "cell_type": "markdown",
   "id": "26ab02f7",
   "metadata": {},
   "source": [
    "## Define Dataset and Model"
   ]
  },
  {
   "cell_type": "code",
   "execution_count": 3,
   "id": "36c2a048",
   "metadata": {},
   "outputs": [
    {
     "name": "stderr",
     "output_type": "stream",
     "text": [
      "2023-07-24 17:39:26.952779: I tensorflow/core/platform/cpu_feature_guard.cc:193] This TensorFlow binary is optimized with oneAPI Deep Neural Network Library (oneDNN) to use the following CPU instructions in performance-critical operations:  SSE4.1 SSE4.2 AVX AVX2 AVX512F AVX512_VNNI FMA\n",
      "To enable them in other operations, rebuild TensorFlow with the appropriate compiler flags.\n"
     ]
    },
    {
     "name": "stdout",
     "output_type": "stream",
     "text": [
      "Loading network weights from 'weights_best.h5'.\n",
      "Loading thresholds from 'thresholds.json'.\n",
      "Using default values: prob_thresh=0.571909, nms_thresh=0.3.\n"
     ]
    }
   ],
   "source": [
    "## import stardist model in place of ku-net\n",
    "modeldir = f'/Users/marcchiu/lamprogen-python/notebooks/deep learning/models'\n",
    "name = 'lamprogen-stardist-trained'\n",
    "model_stardist = StarDist2D(None, name=name,basedir=modeldir)\n",
    "\n",
    "# load BDCLSTM Model\n",
    "model = CLSTM(input_channels=1, hidden_channels=[64])\n",
    "\n",
    "device = torch.device('cuda' if torch.cuda.is_available() else 'cpu')\n",
    "optimizer = optim.SGD(model.parameters(), lr=1e-3, momentum=0.9)\n",
    "criterion = DICELossMultiClass()\n",
    "model = model.to(device)\n",
    "criterion = criterion.to(device)\n"
   ]
  },
  {
   "cell_type": "code",
   "execution_count": 4,
   "id": "b4b69abc",
   "metadata": {},
   "outputs": [],
   "source": [
    "path = 'Fixed'\n",
    "train_data = DatasetLSTM(path)\n",
    "test_data = DatasetLSTM(path)"
   ]
  },
  {
   "cell_type": "code",
   "execution_count": null,
   "id": "c3b35b4b",
   "metadata": {},
   "outputs": [
    {
     "name": "stdout",
     "output_type": "stream",
     "text": [
      "1/1 [==============================] - 0s 241ms/step\n"
     ]
    }
   ],
   "source": [
    "train_data[0][0] = stardist_2d_slicewise(train_data[0][0], model_stardist)"
   ]
  },
  {
   "cell_type": "code",
   "execution_count": null,
   "id": "528adebf",
   "metadata": {},
   "outputs": [],
   "source": [
    "batch_size = 1\n",
    "train_iterator = torch.utils.data.DataLoader(train_data,batch_size=batch_size ,shuffle=True)\n",
    "valid_iterator = torch.utils.data.DataLoader(test_data,batch_size=batch_size ,shuffle=False)\n"
   ]
  },
  {
   "cell_type": "markdown",
   "id": "3fefdc13",
   "metadata": {},
   "source": [
    "## Define Traing Loop"
   ]
  },
  {
   "cell_type": "code",
   "execution_count": null,
   "id": "e8f0402b",
   "metadata": {},
   "outputs": [],
   "source": [
    "# # Define Training Loop\n",
    "\n",
    "def train(epoch, iterator, optimizer, criterion):\n",
    "    model.train()\n",
    "    for image, mask in iterator:\n",
    "            \n",
    "        image = image.to(device)\n",
    "        mask = mask.to(device)\n",
    "\n",
    "        optimizer.zero_grad()\n",
    "\n",
    "        output = model(labels)\n",
    "        loss = criterion(output, mask)\n",
    "\n",
    "        loss.backward()\n",
    "        optimizer.step()\n",
    "        epoch_loss += loss.item()\n",
    "        #epoch_acc += acc.item()\n",
    "\n",
    "    return epoch_loss / len(iterator), #epoch_acc / len(iterator)"
   ]
  },
  {
   "cell_type": "code",
   "execution_count": null,
   "id": "a6cd5485",
   "metadata": {},
   "outputs": [],
   "source": [
    "train(5, train_iterator, optimizer, criterion)"
   ]
  },
  {
   "cell_type": "markdown",
   "id": "37b5a0a5",
   "metadata": {},
   "source": [
    "## Define Testing Loop"
   ]
  },
  {
   "cell_type": "code",
   "execution_count": null,
   "id": "b1573b3f",
   "metadata": {},
   "outputs": [],
   "source": [
    "def evaluate(epoch, eval_iterator, optimizer, criterion):\n",
    "    model.eval()\n",
    "    min_loss=sys.maxsize\n",
    "    for image, mask in eval_iterator:\n",
    "\n",
    "        image = image.to(device)\n",
    "        mask = mask.to(device)\n",
    "\n",
    "        optimizer.zero_grad()\n",
    "\n",
    "        labels = stardist_2d_slicewise(image, model_startdist)\n",
    "        output = model(labels)\n",
    "        loss = criterion(output, mask)\n",
    "\n",
    "        loss.backward()\n",
    "        optimizer.step()\n",
    "    \n",
    "        if loss<min_loss :\n",
    "            torch.save(model.state_dict(), \"models\")"
   ]
  },
  {
   "cell_type": "markdown",
   "id": "990e031e",
   "metadata": {},
   "source": []
  },
  {
   "cell_type": "code",
   "execution_count": null,
   "id": "b476c221",
   "metadata": {},
   "outputs": [],
   "source": []
  }
 ],
 "metadata": {
  "kernelspec": {
   "display_name": "Python 3 (ipykernel)",
   "language": "python",
   "name": "python3"
  },
  "language_info": {
   "codemirror_mode": {
    "name": "ipython",
    "version": 3
   },
   "file_extension": ".py",
   "mimetype": "text/x-python",
   "name": "python",
   "nbconvert_exporter": "python",
   "pygments_lexer": "ipython3",
   "version": "3.10.11"
  }
 },
 "nbformat": 4,
 "nbformat_minor": 5
}
